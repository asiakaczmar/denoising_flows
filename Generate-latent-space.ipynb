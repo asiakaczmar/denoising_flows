{
 "cells": [
  {
   "cell_type": "code",
   "execution_count": 1,
   "id": "harmful-hypothesis",
   "metadata": {},
   "outputs": [],
   "source": [
    "import numpy as np\n",
    "import pandas as pd\n",
    "import torch\n",
    "import torchvision.transforms as transforms\n",
    "\n",
    "from torch.utils.data import DataLoader\n",
    "from torchvision.datasets import CelebA"
   ]
  },
  {
   "cell_type": "code",
   "execution_count": 2,
   "id": "modified-delivery",
   "metadata": {
    "tags": []
   },
   "outputs": [],
   "source": [
    "model = torch.load('model.ckpt')"
   ]
  },
  {
   "cell_type": "code",
   "execution_count": 3,
   "id": "three-courage",
   "metadata": {
    "jupyter": {
     "source_hidden": true
    },
    "tags": []
   },
   "outputs": [],
   "source": [
    "SetRange = transforms.Lambda(lambda X: 2 * X - 1.)\n",
    "\n",
    "transform = transforms.Compose([\n",
    "    transforms.RandomHorizontalFlip(),\n",
    "    transforms.CenterCrop(148),\n",
    "    transforms.Resize(64),\n",
    "    transforms.ToTensor(),\n",
    "    SetRange\n",
    "])"
   ]
  },
  {
   "cell_type": "code",
   "execution_count": 4,
   "id": "mexican-staff",
   "metadata": {},
   "outputs": [],
   "source": [
    "bs = 256\n",
    "dataset_train = CelebA(root ='data', split = \"train\", transform=transform, download=False)\n",
    "dataset_valid = CelebA(root ='data', split = \"valid\", transform=transform, download=False)\n",
    "dataset_test = CelebA(root ='data', split = \"test\", transform=transform, download=False)\n",
    "\n",
    "dataloader_train = DataLoader(dataset_train, batch_size = bs)\n",
    "dataloader_test = DataLoader(dataset_test, batch_size = bs)"
   ]
  },
  {
   "cell_type": "code",
   "execution_count": 5,
   "id": "coupled-junior",
   "metadata": {},
   "outputs": [],
   "source": [
    "def get_latent_space(model, dataloader):\n",
    "    ys = []\n",
    "    zs = []\n",
    "\n",
    "    with torch.no_grad():\n",
    "        for x, y in dataloader: \n",
    "            x = x.cuda()\n",
    "            mu, log_var = model.encode(x)\n",
    "            z = model.reparameterize(mu, log_var)\n",
    "            zs.append(z.detach().cpu().numpy())\n",
    "            ys.append(y.numpy())\n",
    "    return np.vstack(zs), np.vstack(ys)"
   ]
  },
  {
   "cell_type": "code",
   "execution_count": 6,
   "id": "molecular-expression",
   "metadata": {},
   "outputs": [],
   "source": [
    "zs_train, ys_train = get_latent_space(model, dataloader_train)\n",
    "zs_test, ys_test = get_latent_space(model, dataloader_test)"
   ]
  },
  {
   "cell_type": "code",
   "execution_count": 7,
   "id": "medieval-reality",
   "metadata": {},
   "outputs": [],
   "source": [
    "pd.DataFrame(zs_train).to_csv('data/z_train.csv', index=False)\n",
    "pd.DataFrame(zs_test).to_csv('data/z_test.csv', index=False)\n",
    "\n",
    "pd.DataFrame(ys_train).to_csv('data/y_train.csv', index=False)\n",
    "pd.DataFrame(ys_test).to_csv('data/y_test.csv', index=False)"
   ]
  }
 ],
 "metadata": {
  "kernelspec": {
   "display_name": "Python 3",
   "language": "python",
   "name": "python3"
  },
  "language_info": {
   "codemirror_mode": {
    "name": "ipython",
    "version": 3
   },
   "file_extension": ".py",
   "mimetype": "text/x-python",
   "name": "python",
   "nbconvert_exporter": "python",
   "pygments_lexer": "ipython3",
   "version": "3.6.9"
  }
 },
 "nbformat": 4,
 "nbformat_minor": 5
}
