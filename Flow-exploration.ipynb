{
 "cells": [
  {
   "cell_type": "code",
   "execution_count": 1,
   "id": "designing-imagination",
   "metadata": {},
   "outputs": [],
   "source": [
    "import json\n",
    "\n",
    "import matplotlib.pyplot as plt\n",
    "import numpy as np\n",
    "import pandas as pd\n",
    "import torch\n",
    "import torch.nn.functional as F\n",
    "\n",
    "from sklearn.metrics import confusion_matrix, classification_report\n",
    "from torchvision.utils import make_grid\n",
    "\n",
    "from flows.autoregressive import MaskedAutoregressiveFlow\n",
    "from utils import load_model\n",
    "\n",
    "FLOW_PATH = 'logs/RNVP/version_2/'\n",
    "MODEL_PATH = 'logs/DFCVAE/version_0/'\n",
    "DATA_PATH = 'logs/DFCVAE/version_0/latent_space'"
   ]
  },
  {
   "cell_type": "code",
   "execution_count": null,
   "id": "prime-scholar",
   "metadata": {
    "jupyter": {
     "outputs_hidden": true
    },
    "tags": []
   },
   "outputs": [],
   "source": [
    "flow = load_model(FLOW_PATH).cuda()\n",
    "model = load_model(MODEL_PATH, 'vae').cuda()"
   ]
  },
  {
   "cell_type": "code",
   "execution_count": null,
   "id": "d7d42692",
   "metadata": {},
   "outputs": [],
   "source": [
    "def summarise(z, y):\n",
    "    z = torch.tensor(z.values, dtype=torch.float).cuda()\n",
    "\n",
    "    y0 = torch.zeros(z.shape[0], 1).cuda()\n",
    "    y1 = torch.ones(z.shape[0], 1).cuda()\n",
    "    \n",
    "    with torch.no_grad():\n",
    "        res0 = flow.log_prob(z, y0).detach().cpu().numpy()\n",
    "        res1 = flow.log_prob(z, y1).detach().cpu().numpy()\n",
    "        \n",
    "    df = pd.DataFrame({'res0': res0, 'res1': res1, 'y': y.values[:, 0]})\n",
    "    df['y_hat'] = (df['res0'] < df['res1']).astype(int)\n",
    "    \n",
    "    print(confusion_matrix(df['y'], df['y_hat']))\n",
    "    print(classification_report(df['y'], df['y_hat']))\n",
    "\n",
    "    \n",
    "def show_image(image):\n",
    "    plt.figure(figsize = (16, 8))\n",
    "    plt.imshow(image.squeeze(0).permute(1, 2, 0).detach().cpu())\n",
    "    plt.show()"
   ]
  },
  {
   "cell_type": "code",
   "execution_count": null,
   "id": "arabic-strip",
   "metadata": {
    "tags": []
   },
   "outputs": [],
   "source": [
    "z_train = pd.read_csv(f'{DATA_PATH}/z_train.csv')\n",
    "y_train = pd.read_csv(f'{DATA_PATH}/y_train_gender.csv')\n",
    "\n",
    "z_valid = pd.read_csv(f'{DATA_PATH}/z_valid.csv')\n",
    "y_valid = pd.read_csv(f'{DATA_PATH}/y_valid_gender.csv')\n",
    "\n",
    "z_test = pd.read_csv(f'{DATA_PATH}/z_test.csv')\n",
    "y_test = pd.read_csv(f'{DATA_PATH}/y_test_gender.csv')"
   ]
  },
  {
   "cell_type": "markdown",
   "id": "92c0c982",
   "metadata": {},
   "source": [
    "## Image"
   ]
  },
  {
   "cell_type": "code",
   "execution_count": null,
   "id": "d5b5317d",
   "metadata": {},
   "outputs": [],
   "source": [
    "n_samples = 20\n",
    "n_row = 5\n",
    "\n",
    "y0 = torch.zeros(1, 1).cuda()\n",
    "y1 = torch.ones(1, 1).cuda()\n",
    "\n",
    "with torch.no_grad():\n",
    "    res0 = flow.sample(n_samples, y0)\n",
    "    res1 = flow.sample(n_samples, y1)\n",
    "\n",
    "res0_image = model.decode(res0)\n",
    "res1_image = model.decode(res1)"
   ]
  },
  {
   "cell_type": "code",
   "execution_count": null,
   "id": "acacc8ad",
   "metadata": {},
   "outputs": [],
   "source": [
    "show_image((make_grid(res0_image, nrow = n_row) + 1) / 2)"
   ]
  },
  {
   "cell_type": "code",
   "execution_count": null,
   "id": "53c77fe7",
   "metadata": {},
   "outputs": [],
   "source": [
    "show_image((make_grid(res1_image, nrow = n_row) + 1) / 2)"
   ]
  },
  {
   "cell_type": "markdown",
   "id": "f00ddf29",
   "metadata": {},
   "source": [
    "## Classification"
   ]
  },
  {
   "cell_type": "code",
   "execution_count": null,
   "id": "acquired-primary",
   "metadata": {},
   "outputs": [],
   "source": [
    "summarise(z_train, y_train)"
   ]
  },
  {
   "cell_type": "code",
   "execution_count": null,
   "id": "eef6f7e8",
   "metadata": {},
   "outputs": [],
   "source": [
    "summarise(z_valid, y_valid)"
   ]
  },
  {
   "cell_type": "code",
   "execution_count": null,
   "id": "78d6deeb",
   "metadata": {},
   "outputs": [],
   "source": [
    "summarise(z_test, y_test)"
   ]
  }
 ],
 "metadata": {
  "kernelspec": {
   "display_name": "Python 3",
   "language": "python",
   "name": "python3"
  },
  "language_info": {
   "codemirror_mode": {
    "name": "ipython",
    "version": 3
   },
   "file_extension": ".py",
   "mimetype": "text/x-python",
   "name": "python",
   "nbconvert_exporter": "python",
   "pygments_lexer": "ipython3",
   "version": "3.6.9"
  }
 },
 "nbformat": 4,
 "nbformat_minor": 5
}
