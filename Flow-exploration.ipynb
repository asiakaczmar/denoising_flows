{
 "cells": [
  {
   "cell_type": "code",
   "execution_count": 1,
   "id": "designing-imagination",
   "metadata": {},
   "outputs": [],
   "source": [
    "import json\n",
    "\n",
    "import matplotlib.pyplot as plt\n",
    "import numpy as np\n",
    "import pandas as pd\n",
    "import torch\n",
    "import torch.nn.functional as F\n",
    "\n",
    "from sklearn.metrics import confusion_matrix, classification_report\n",
    "\n",
    "from flows.autoregressive import MaskedAutoregressiveFlow\n",
    "from utils import load_flow\n",
    "\n",
    "FLOW_PATH = 'logs/MAF/version_0/'"
   ]
  },
  {
   "cell_type": "code",
   "execution_count": 2,
   "id": "prime-scholar",
   "metadata": {
    "jupyter": {
     "outputs_hidden": true
    },
    "tags": []
   },
   "outputs": [],
   "source": [
    "flow = load_flow(FLOW_PATH).cuda()"
   ]
  },
  {
   "cell_type": "code",
   "execution_count": 3,
   "id": "d7d42692",
   "metadata": {},
   "outputs": [],
   "source": [
    "def summarise(z, y):\n",
    "    z = torch.tensor(z.values, dtype=torch.float).cuda()\n",
    "\n",
    "    y0 = torch.zeros(z.shape[0], 1).cuda()\n",
    "    y1 = torch.ones(z.shape[0], 1).cuda()\n",
    "    \n",
    "    with torch.no_grad():\n",
    "        res0 = flow.log_prob(z, y0).detach().cpu().numpy()\n",
    "        res1 = flow.log_prob(z, y1).detach().cpu().numpy()\n",
    "        \n",
    "    df = pd.DataFrame({'res0': res0, 'res1': res1, 'y': y.values[:, 0]})\n",
    "    df['y_hat'] = (df['res0'] < df['res1']).astype(int)\n",
    "    \n",
    "    print(confusion_matrix(df['y'], df['y_hat']))\n",
    "    print(classification_report(df['y'], df['y_hat']))"
   ]
  },
  {
   "cell_type": "code",
   "execution_count": 4,
   "id": "arabic-strip",
   "metadata": {
    "tags": []
   },
   "outputs": [],
   "source": [
    "z_train = pd.read_csv('data/z_train.csv')\n",
    "y_train = pd.read_csv('data/y_train_gender.csv')\n",
    "\n",
    "z_test = pd.read_csv('data/z_test.csv')\n",
    "y_test = pd.read_csv('data/y_test_gender.csv')"
   ]
  },
  {
   "cell_type": "code",
   "execution_count": 5,
   "id": "acquired-primary",
   "metadata": {},
   "outputs": [
    {
     "name": "stdout",
     "output_type": "stream",
     "text": [
      "[[74261 20248]\n",
      " [13435 54826]]\n",
      "              precision    recall  f1-score   support\n",
      "\n",
      "           0       0.85      0.79      0.82     94509\n",
      "           1       0.73      0.80      0.77     68261\n",
      "\n",
      "    accuracy                           0.79    162770\n",
      "   macro avg       0.79      0.79      0.79    162770\n",
      "weighted avg       0.80      0.79      0.79    162770\n",
      "\n"
     ]
    }
   ],
   "source": [
    "summarise(z_train, y_train)"
   ]
  },
  {
   "cell_type": "code",
   "execution_count": 6,
   "id": "78d6deeb",
   "metadata": {},
   "outputs": [
    {
     "name": "stdout",
     "output_type": "stream",
     "text": [
      "[[9549 2698]\n",
      " [1569 6146]]\n",
      "              precision    recall  f1-score   support\n",
      "\n",
      "           0       0.86      0.78      0.82     12247\n",
      "           1       0.69      0.80      0.74      7715\n",
      "\n",
      "    accuracy                           0.79     19962\n",
      "   macro avg       0.78      0.79      0.78     19962\n",
      "weighted avg       0.80      0.79      0.79     19962\n",
      "\n"
     ]
    }
   ],
   "source": [
    "summarise(z_test, y_test)"
   ]
  }
 ],
 "metadata": {
  "kernelspec": {
   "display_name": "Python 3",
   "language": "python",
   "name": "python3"
  },
  "language_info": {
   "codemirror_mode": {
    "name": "ipython",
    "version": 3
   },
   "file_extension": ".py",
   "mimetype": "text/x-python",
   "name": "python",
   "nbconvert_exporter": "python",
   "pygments_lexer": "ipython3",
   "version": "3.6.9"
  }
 },
 "nbformat": 4,
 "nbformat_minor": 5
}
