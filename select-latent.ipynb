{
 "cells": [
  {
   "cell_type": "code",
   "execution_count": 1,
   "id": "4ffb04f9",
   "metadata": {},
   "outputs": [],
   "source": [
    "import pandas as pd"
   ]
  },
  {
   "cell_type": "code",
   "execution_count": 5,
   "id": "94b3eff3",
   "metadata": {},
   "outputs": [],
   "source": [
    "PATH = 'logs/DFCVAE/version_0/latent_space'"
   ]
  },
  {
   "cell_type": "code",
   "execution_count": 6,
   "id": "d56fdf18",
   "metadata": {},
   "outputs": [],
   "source": [
    "df_train = pd.read_csv(f'{PATH}/y_train.csv')\n",
    "df_valid = pd.read_csv(f'{PATH}/y_valid.csv')\n",
    "df_test = pd.read_csv(f'{PATH}/y_test.csv')"
   ]
  },
  {
   "cell_type": "code",
   "execution_count": 7,
   "id": "ec210210",
   "metadata": {},
   "outputs": [],
   "source": [
    "df_train[['20']].to_csv(f'{PATH}/y_train_gender.csv', index=False)\n",
    "df_valid[['20']].to_csv(f'{PATH}/y_valid_gender.csv', index=False)\n",
    "df_test[['20']].to_csv(f'{PATH}/y_test_gender.csv', index=False)"
   ]
  }
 ],
 "metadata": {
  "kernelspec": {
   "display_name": "Python 3",
   "language": "python",
   "name": "python3"
  },
  "language_info": {
   "codemirror_mode": {
    "name": "ipython",
    "version": 3
   },
   "file_extension": ".py",
   "mimetype": "text/x-python",
   "name": "python",
   "nbconvert_exporter": "python",
   "pygments_lexer": "ipython3",
   "version": "3.6.9"
  }
 },
 "nbformat": 4,
 "nbformat_minor": 5
}
