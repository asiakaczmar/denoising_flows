{
 "cells": [
  {
   "cell_type": "code",
   "execution_count": 1,
   "id": "4ffb04f9",
   "metadata": {},
   "outputs": [],
   "source": [
    "import pandas as pd"
   ]
  },
  {
   "cell_type": "code",
   "execution_count": 2,
   "id": "d56fdf18",
   "metadata": {},
   "outputs": [],
   "source": [
    "df = pd.read_csv('logs/DFCAE/version_0/latent_space/y_train.csv')"
   ]
  },
  {
   "cell_type": "code",
   "execution_count": 6,
   "id": "ec210210",
   "metadata": {},
   "outputs": [],
   "source": [
    "df[['20']].to_csv('logs/DFCAE/version_0/latent_space/y_train_gender.csv', index=False)"
   ]
  }
 ],
 "metadata": {
  "kernelspec": {
   "display_name": "Python 3",
   "language": "python",
   "name": "python3"
  },
  "language_info": {
   "codemirror_mode": {
    "name": "ipython",
    "version": 3
   },
   "file_extension": ".py",
   "mimetype": "text/x-python",
   "name": "python",
   "nbconvert_exporter": "python",
   "pygments_lexer": "ipython3",
   "version": "3.6.9"
  }
 },
 "nbformat": 4,
 "nbformat_minor": 5
}
